{
 "cells": [
  {
   "cell_type": "markdown",
   "id": "abcd8b85",
   "metadata": {},
   "source": [
    "## E-commerce Business\n",
    "**Will Visitor end it paying? YES/NO**\n",
    "<br>\n",
    "three main types of varaibles\n",
    "<br>\n",
    "1.Visitor related\n",
    "<br>\n",
    "2.Page related\n",
    "<br>\n",
    "3.Date of purchase related\n",
    "<br> \n",
    "**visitor related**\n",
    "\n",
    "\n",
    "\"Administrative\" : How many administrative pages visited\n",
    "<br>\n",
    "\"Administrative Duration\": How long spent in the administrative pages\n",
    "<br>\n",
    "\"Informational\" : How many informational pages visited\n",
    "<br>\n",
    "\"Informational Duration\" : How long stayed in Informational pages\n",
    "<br>\n",
    "\"Product Related\" : Product Related pages visitor opened\n",
    "<br>\n",
    "\"Product Related Duration\" : How long stayed in Product Related pages\n",
    "<br>\n",
    "\"VisitorType\" : returning,new,Others\n",
    "\n",
    "\n",
    "**Page Related** : I assume these page related values are average over all visited pages\n",
    "<br>\n",
    "single page level!!!!\n",
    "<br>\n",
    "which page are the values for ? are they the average?\n",
    "\n",
    " \"Bounce Rate\" :percentage of visitors(within a session I assume) who enter the website from that page and then leave (\"bounce\") without triggering any other requests to the analytics server during that session\n",
    " <br> \n",
    " \"Exit Rate\"  :\n",
    " <br>\n",
    " The page’s exit rate indicates how often visitors exit from it after visiting any number of pages on the site\n",
    " <br>\n",
    " number of exits / number of pageviews for a particular page\n",
    " <br>\n",
    " \"Page Value\": \n",
    " Page Value is the average value for a page that a user visited before landing on the goal page or completing an Ecommerce transaction (or both)\n",
    " \n",
    " Page Value for a single page=(Ecommerce Revenue + Total Goal Value) / Unique Pageviews for Given Page\n",
    " \n",
    "  <br>\n",
    "**Time of Purchase Related**\n",
    " <br>\n",
    "\"Special Day\"\n",
    " <br>\n",
    "\"Month\"\n",
    "<br>\n",
    "\"Weekend\"\n",
    "<br>\n",
    "\n",
    "\n",
    "**Others**\n",
    "\n",
    "OperatingSystems\n",
    "<br>\n",
    "\"Browser\"\n",
    "<br>\n",
    "\"Region\"\n",
    "<br>\n",
    "\"TrafficType\"\n",
    "<br>\n",
    "\n",
    " \n"
   ]
  },
  {
   "cell_type": "code",
   "execution_count": 4,
   "id": "80357d78",
   "metadata": {},
   "outputs": [],
   "source": [
    "import numpy as np\n",
    "import pandas as pd\n",
    "\n",
    "from sklearn import metrics\n",
    "import warnings\n",
    "warnings.filterwarnings(\"ignore\")\n",
    "from sklearn.linear_model import LogisticRegression\n",
    "from xgboost import XGBClassifier\n",
    "from sklearn.model_selection import cross_val_score,KFold\n",
    "\n",
    "from sklearn.model_selection import GridSearchCV\n",
    "\n"
   ]
  },
  {
   "cell_type": "code",
   "execution_count": 106,
   "id": "2261a8ff",
   "metadata": {},
   "outputs": [],
   "source": [
    "df=pd.read_csv(r'C:\\Users\\lfakh\\Downloads\\coding_round_data.csv')"
   ]
  },
  {
   "cell_type": "code",
   "execution_count": 107,
   "id": "9a54b26c",
   "metadata": {},
   "outputs": [
    {
     "data": {
      "text/plain": [
       "array([84.52554745, 15.47445255])"
      ]
     },
     "execution_count": 107,
     "metadata": {},
     "output_type": "execute_result"
    }
   ],
   "source": [
    "100*df['Revenue'].value_counts().values/df['Revenue'].value_counts().sum()\n"
   ]
  },
  {
   "cell_type": "code",
   "execution_count": 108,
   "id": "4710670e",
   "metadata": {},
   "outputs": [],
   "source": [
    "df[\"Revenue\"] = df[\"Revenue\"].astype(int)\n",
    "df[\"Weekend\"] = df[\"Weekend\"].astype(int)\n"
   ]
  },
  {
   "cell_type": "code",
   "execution_count": 55,
   "id": "284ecf87",
   "metadata": {
    "scrolled": true
   },
   "outputs": [
    {
     "data": {
      "text/html": [
       "<div>\n",
       "<style scoped>\n",
       "    .dataframe tbody tr th:only-of-type {\n",
       "        vertical-align: middle;\n",
       "    }\n",
       "\n",
       "    .dataframe tbody tr th {\n",
       "        vertical-align: top;\n",
       "    }\n",
       "\n",
       "    .dataframe thead th {\n",
       "        text-align: right;\n",
       "    }\n",
       "</style>\n",
       "<table border=\"1\" class=\"dataframe\">\n",
       "  <thead>\n",
       "    <tr style=\"text-align: right;\">\n",
       "      <th></th>\n",
       "      <th>Administrative</th>\n",
       "      <th>Administrative_Duration</th>\n",
       "      <th>Informational</th>\n",
       "      <th>Informational_Duration</th>\n",
       "      <th>ProductRelated</th>\n",
       "      <th>ProductRelated_Duration</th>\n",
       "      <th>BounceRates</th>\n",
       "      <th>ExitRates</th>\n",
       "      <th>PageValues</th>\n",
       "      <th>SpecialDay</th>\n",
       "      <th>Month</th>\n",
       "      <th>OperatingSystems</th>\n",
       "      <th>Browser</th>\n",
       "      <th>Region</th>\n",
       "      <th>TrafficType</th>\n",
       "      <th>VisitorType</th>\n",
       "      <th>Weekend</th>\n",
       "      <th>Revenue</th>\n",
       "    </tr>\n",
       "  </thead>\n",
       "  <tbody>\n",
       "    <tr>\n",
       "      <th>0</th>\n",
       "      <td>0</td>\n",
       "      <td>0.0</td>\n",
       "      <td>0</td>\n",
       "      <td>0.0</td>\n",
       "      <td>1</td>\n",
       "      <td>0.000000</td>\n",
       "      <td>0.20</td>\n",
       "      <td>0.20</td>\n",
       "      <td>NaN</td>\n",
       "      <td>0.0</td>\n",
       "      <td>Feb</td>\n",
       "      <td>1</td>\n",
       "      <td>1</td>\n",
       "      <td>1</td>\n",
       "      <td>1</td>\n",
       "      <td>Returning_Visitor</td>\n",
       "      <td>0</td>\n",
       "      <td>0</td>\n",
       "    </tr>\n",
       "    <tr>\n",
       "      <th>1</th>\n",
       "      <td>0</td>\n",
       "      <td>0.0</td>\n",
       "      <td>0</td>\n",
       "      <td>0.0</td>\n",
       "      <td>2</td>\n",
       "      <td>64.000000</td>\n",
       "      <td>0.00</td>\n",
       "      <td>0.10</td>\n",
       "      <td>NaN</td>\n",
       "      <td>0.0</td>\n",
       "      <td>Feb</td>\n",
       "      <td>2</td>\n",
       "      <td>2</td>\n",
       "      <td>1</td>\n",
       "      <td>2</td>\n",
       "      <td>Returning_Visitor</td>\n",
       "      <td>0</td>\n",
       "      <td>0</td>\n",
       "    </tr>\n",
       "    <tr>\n",
       "      <th>2</th>\n",
       "      <td>0</td>\n",
       "      <td>0.0</td>\n",
       "      <td>0</td>\n",
       "      <td>0.0</td>\n",
       "      <td>1</td>\n",
       "      <td>0.000000</td>\n",
       "      <td>0.20</td>\n",
       "      <td>0.20</td>\n",
       "      <td>NaN</td>\n",
       "      <td>0.0</td>\n",
       "      <td>Feb</td>\n",
       "      <td>4</td>\n",
       "      <td>1</td>\n",
       "      <td>9</td>\n",
       "      <td>3</td>\n",
       "      <td>Returning_Visitor</td>\n",
       "      <td>0</td>\n",
       "      <td>0</td>\n",
       "    </tr>\n",
       "    <tr>\n",
       "      <th>3</th>\n",
       "      <td>0</td>\n",
       "      <td>0.0</td>\n",
       "      <td>0</td>\n",
       "      <td>0.0</td>\n",
       "      <td>2</td>\n",
       "      <td>2.666667</td>\n",
       "      <td>0.05</td>\n",
       "      <td>0.14</td>\n",
       "      <td>NaN</td>\n",
       "      <td>0.0</td>\n",
       "      <td>Feb</td>\n",
       "      <td>3</td>\n",
       "      <td>2</td>\n",
       "      <td>2</td>\n",
       "      <td>4</td>\n",
       "      <td>Returning_Visitor</td>\n",
       "      <td>0</td>\n",
       "      <td>0</td>\n",
       "    </tr>\n",
       "    <tr>\n",
       "      <th>4</th>\n",
       "      <td>0</td>\n",
       "      <td>0.0</td>\n",
       "      <td>0</td>\n",
       "      <td>0.0</td>\n",
       "      <td>10</td>\n",
       "      <td>627.500000</td>\n",
       "      <td>0.02</td>\n",
       "      <td>0.05</td>\n",
       "      <td>NaN</td>\n",
       "      <td>0.0</td>\n",
       "      <td>Feb</td>\n",
       "      <td>3</td>\n",
       "      <td>3</td>\n",
       "      <td>1</td>\n",
       "      <td>4</td>\n",
       "      <td>Returning_Visitor</td>\n",
       "      <td>1</td>\n",
       "      <td>0</td>\n",
       "    </tr>\n",
       "  </tbody>\n",
       "</table>\n",
       "</div>"
      ],
      "text/plain": [
       "   Administrative  Administrative_Duration  Informational  \\\n",
       "0               0                      0.0              0   \n",
       "1               0                      0.0              0   \n",
       "2               0                      0.0              0   \n",
       "3               0                      0.0              0   \n",
       "4               0                      0.0              0   \n",
       "\n",
       "   Informational_Duration  ProductRelated  ProductRelated_Duration  \\\n",
       "0                     0.0               1                 0.000000   \n",
       "1                     0.0               2                64.000000   \n",
       "2                     0.0               1                 0.000000   \n",
       "3                     0.0               2                 2.666667   \n",
       "4                     0.0              10               627.500000   \n",
       "\n",
       "   BounceRates  ExitRates PageValues  SpecialDay Month  OperatingSystems  \\\n",
       "0         0.20       0.20        NaN         0.0   Feb                 1   \n",
       "1         0.00       0.10        NaN         0.0   Feb                 2   \n",
       "2         0.20       0.20        NaN         0.0   Feb                 4   \n",
       "3         0.05       0.14        NaN         0.0   Feb                 3   \n",
       "4         0.02       0.05        NaN         0.0   Feb                 3   \n",
       "\n",
       "   Browser  Region  TrafficType        VisitorType  Weekend  Revenue  \n",
       "0        1       1            1  Returning_Visitor        0        0  \n",
       "1        2       1            2  Returning_Visitor        0        0  \n",
       "2        1       9            3  Returning_Visitor        0        0  \n",
       "3        2       2            4  Returning_Visitor        0        0  \n",
       "4        3       1            4  Returning_Visitor        1        0  "
      ]
     },
     "execution_count": 55,
     "metadata": {},
     "output_type": "execute_result"
    }
   ],
   "source": [
    "df.head()"
   ]
  },
  {
   "cell_type": "code",
   "execution_count": 109,
   "id": "d533e40f",
   "metadata": {},
   "outputs": [],
   "source": [
    "#df['InformationalRate']=df['Informational_Duration']/1+df['Informational']\n",
    "#df['ProductRelatedRate']=df['ProductRelated_Duration']/1+df['ProductRelated']\n",
    "\n",
    "df['#pages visited']=df['Administrative']+df['Informational']+df['ProductRelated']\n",
    "df['#how long visited']=df['Administrative_Duration']+df['Informational_Duration']+df['ProductRelated_Duration']\n",
    "#df['time per page']=df['#how long visited']/df['#pages visited']"
   ]
  },
  {
   "cell_type": "code",
   "execution_count": 110,
   "id": "24a5ea9e",
   "metadata": {
    "scrolled": true
   },
   "outputs": [
    {
     "data": {
      "text/plain": [
       "ExitRates                 -0.207071\n",
       "BounceRates               -0.150673\n",
       "SpecialDay                -0.082305\n",
       "OperatingSystems          -0.014668\n",
       "Region                    -0.011595\n",
       "TrafficType               -0.005113\n",
       "Browser                    0.023984\n",
       "Weekend                    0.029295\n",
       "Informational_Duration     0.070345\n",
       "Administrative_Duration    0.093587\n",
       "Informational              0.095200\n",
       "Administrative             0.138917\n",
       "ProductRelated_Duration    0.152373\n",
       "#how long visited          0.156068\n",
       "ProductRelated             0.158538\n",
       "#pages visited             0.164110\n",
       "PageValues                 0.492569\n",
       "Revenue                    1.000000\n",
       "Name: Revenue, dtype: float64"
      ]
     },
     "execution_count": 110,
     "metadata": {},
     "output_type": "execute_result"
    }
   ],
   "source": [
    "df.corr()['Revenue'].sort_values()"
   ]
  },
  {
   "cell_type": "code",
   "execution_count": 111,
   "id": "6cc67bf4",
   "metadata": {
    "scrolled": true
   },
   "outputs": [
    {
     "data": {
      "text/plain": [
       "0.062212446385548265"
      ]
     },
     "execution_count": 111,
     "metadata": {},
     "output_type": "execute_result"
    }
   ],
   "source": [
    "df['PageValues'].corr(df['#pages visited'])"
   ]
  },
  {
   "cell_type": "code",
   "execution_count": 404,
   "id": "c8abcef2",
   "metadata": {},
   "outputs": [],
   "source": [
    "#df['PageValues'].corr(df['time per page'])"
   ]
  },
  {
   "cell_type": "code",
   "execution_count": 112,
   "id": "0efe31bc",
   "metadata": {},
   "outputs": [],
   "source": [
    "df=pd.get_dummies(df, columns=['VisitorType','Month'])"
   ]
  },
  {
   "cell_type": "code",
   "execution_count": 115,
   "id": "3d7656cd",
   "metadata": {},
   "outputs": [],
   "source": [
    "df[\"PageValues\"]= pd.cut(df[\"PageValues\"],bins=[-2, 1,5, 10 , 15, 20, 30, 50,100,np.inf], labels=['a', 'b', 'c', 'd','e','f','g','h','i'])\n",
    "vals={'a':1,'b':2,'c':3,'d':4,'e':5,'f':6,'g':7,'h':8,'i':9}\n",
    "df[\"PageValues\"]=df[\"PageValues\"].map(vals)                                                             \n",
    "df['PageValues']=df['PageValues'].astype('int')"
   ]
  },
  {
   "cell_type": "code",
   "execution_count": 116,
   "id": "299e6a83",
   "metadata": {},
   "outputs": [],
   "source": [
    "X=df.drop('Revenue',axis=1)\n",
    "y=df['Revenue']"
   ]
  },
  {
   "cell_type": "code",
   "execution_count": 117,
   "id": "821394ce",
   "metadata": {},
   "outputs": [],
   "source": [
    "from sklearn.model_selection import train_test_split\n",
    "X_train, X_test, y_train, y_test = train_test_split(X, y, test_size=0.2, random_state=42)\n",
    "     "
   ]
  },
  {
   "cell_type": "code",
   "execution_count": 118,
   "id": "64c0fea5",
   "metadata": {
    "scrolled": false
   },
   "outputs": [
    {
     "data": {
      "text/plain": [
       "0    0.848236\n",
       "1    0.151764\n",
       "Name: Revenue, dtype: float64"
      ]
     },
     "execution_count": 118,
     "metadata": {},
     "output_type": "execute_result"
    }
   ],
   "source": [
    "y_train.value_counts()/y_train.value_counts().sum() #change this. this is not the same distribution"
   ]
  },
  {
   "cell_type": "markdown",
   "id": "0b0c6e24",
   "metadata": {},
   "source": [
    "## Base Line Model"
   ]
  },
  {
   "cell_type": "code",
   "execution_count": 409,
   "id": "5c5fa981",
   "metadata": {},
   "outputs": [],
   "source": [
    "\n",
    "logreg=LogisticRegression(C=1.0, class_weight=None, dual=False, fit_intercept=True,\n",
    "          intercept_scaling=1, max_iter=100, multi_class='ovr', n_jobs=1,\n",
    "          penalty='l2', random_state=None, solver='liblinear', tol=0.0001,\n",
    "          verbose=0, warm_start=False)\n",
    "M_LG=logreg.fit(X_train,y_train)"
   ]
  },
  {
   "cell_type": "code",
   "execution_count": 410,
   "id": "4d40314c",
   "metadata": {
    "scrolled": true
   },
   "outputs": [
    {
     "name": "stdout",
     "output_type": "stream",
     "text": [
      "AUC Training  0.6770823827648125\n",
      "AUC Testing 0.6639902676399028\n"
     ]
    }
   ],
   "source": [
    "y_pred_train=M_LG.predict(X_train)\n",
    "y_pred_test=M_LG.predict(X_test)\n",
    "\n",
    "auc_train=metrics.roc_auc_score(y_train, y_pred_train)\n",
    "auc_test=metrics.roc_auc_score(y_test, y_pred_test)\n",
    "\n",
    "\n",
    "\n",
    "print('AUC Training ',auc_train)\n",
    "print('AUC Testing',auc_test)"
   ]
  },
  {
   "cell_type": "markdown",
   "id": "b4456d36",
   "metadata": {},
   "source": [
    "## Train XGboost with default hyperprameters"
   ]
  },
  {
   "cell_type": "code",
   "execution_count": 13,
   "id": "519edf94",
   "metadata": {},
   "outputs": [],
   "source": [
    "model=XGBClassifier(booster='gbtree',objective='binary:logistic',eta=0.3,gamma=0,max_depth=6,min_child_weight=0,scale_pos_weight=0,n_jobs=4,n_estimators=100,random_state=7)\n",
    "\n",
    "M=model.fit(X_train, y_train,verbose=True,eval_metric=\"auc\")"
   ]
  },
  {
   "cell_type": "code",
   "execution_count": 14,
   "id": "f67ca5be",
   "metadata": {},
   "outputs": [
    {
     "name": "stdout",
     "output_type": "stream",
     "text": [
      "AUC Training  0.5\n",
      "AUC Testing 0.5\n"
     ]
    }
   ],
   "source": [
    "y_pred_train=M.predict(X_train)\n",
    "y_pred_test=M.predict(X_test)\n",
    "auc_train=metrics.roc_auc_score(y_train, y_pred_train)\n",
    "auc_test=metrics.roc_auc_score(y_test, y_pred_test)\n",
    "\n",
    "\n",
    "\n",
    "print('AUC Training ',auc_train)\n",
    "print('AUC Testing',auc_test)"
   ]
  },
  {
   "cell_type": "code",
   "execution_count": 15,
   "id": "66f7ea44",
   "metadata": {},
   "outputs": [
    {
     "name": "stdout",
     "output_type": "stream",
     "text": [
      "AUC Training  0.9912048310796326\n",
      "AUC Testing 0.8121654501216545\n"
     ]
    }
   ],
   "source": [
    "model=XGBClassifier(booster='gbtree',objective='binary:logistic',eta=0.3,gamma=0,max_depth=6,min_child_weight=0,scale_pos_weight=6,n_jobs=4,n_estimators=100,random_state=7)\n",
    "M=model.fit(X_train, y_train,verbose=True,eval_metric=\"auc\")\n",
    "\n",
    "y_pred_train=M.predict(X_train)\n",
    "y_pred_test=M.predict(X_test)\n",
    "auc_train=metrics.roc_auc_score(y_train, y_pred_train)\n",
    "auc_test=metrics.roc_auc_score(y_test, y_pred_test)\n",
    "\n",
    "\n",
    "\n",
    "print('AUC Training ',auc_train)\n",
    "print('AUC Testing',auc_test)"
   ]
  },
  {
   "cell_type": "code",
   "execution_count": 22,
   "id": "4f5de6f0",
   "metadata": {},
   "outputs": [
    {
     "name": "stdout",
     "output_type": "stream",
     "text": [
      "Fitting 5 folds for each of 60 candidates, totalling 300 fits\n",
      "[11:03:01] WARNING: ..\\src\\learner.cc:1115: Starting in XGBoost 1.3.0, the default evaluation metric used with the objective 'binary:logistic' was changed from 'error' to 'logloss'. Explicitly set eval_metric if you'd like to restore the old behavior.\n",
      "AUC Training  0.8735412740145044\n",
      "AUC Testing 0.8613138686131387\n"
     ]
    }
   ],
   "source": [
    "estimator = XGBClassifier(\n",
    "    objective= 'binary:logistic',\n",
    "    nthread=4,\n",
    "    seed=42\n",
    ")\n",
    "parameters = {\n",
    "    'scale_pos_weight': [6],\n",
    "    'eta':[ 0.01,0.05, 0.1,0.15 ],\n",
    "    'min_child_weight':[6],\n",
    "    'max_depth':[4],\n",
    "    'gamma':[2,4,6,8,12],\n",
    "    'n_estimators': [20,50,100]\n",
    "    \n",
    "    \n",
    "\n",
    "}\n",
    "grid_search = GridSearchCV(\n",
    "    estimator=estimator,\n",
    "    param_grid=parameters,\n",
    "    scoring = 'roc_auc',\n",
    "    n_jobs = 10,\n",
    "    cv = 5,\n",
    "    verbose=True\n",
    ")\n",
    "\n",
    "grid_search.fit(X_train, y_train)\n",
    "\n",
    "\n",
    "model=XGBClassifier(**grid_search.best_params_)\n",
    "M=model.fit(X_train, y_train,verbose=True,eval_metric=\"auc\")\n",
    "y_pred_train=M.predict(X_train)\n",
    "y_pred_test=M.predict(X_test)\n",
    "\n",
    "auc_train=metrics.roc_auc_score(y_train, y_pred_train)\n",
    "auc_test=metrics.roc_auc_score(y_test, y_pred_test)\n",
    "\n",
    "\n",
    "\n",
    "print('AUC Training ',auc_train)\n",
    "print('AUC Testing',auc_test)"
   ]
  },
  {
   "cell_type": "code",
   "execution_count": null,
   "id": "00fee0cd",
   "metadata": {},
   "outputs": [],
   "source": [
    "grid_search.best_estimator_\n"
   ]
  },
  {
   "cell_type": "markdown",
   "id": "a97dceac",
   "metadata": {},
   "source": [
    "## Grid Search"
   ]
  },
  {
   "cell_type": "code",
   "execution_count": 16,
   "id": "c52c8d43",
   "metadata": {},
   "outputs": [
    {
     "name": "stdout",
     "output_type": "stream",
     "text": [
      "Fitting 2 folds for each of 64 candidates, totalling 128 fits\n",
      "[10:51:49] WARNING: ..\\src\\learner.cc:1115: Starting in XGBoost 1.3.0, the default evaluation metric used with the objective 'binary:logistic' was changed from 'error' to 'logloss'. Explicitly set eval_metric if you'd like to restore the old behavior.\n",
      "AUC Training  0.8697797171970331\n",
      "AUC Testing 0.8600973236009731\n"
     ]
    }
   ],
   "source": [
    "estimator = XGBClassifier(\n",
    "    objective= 'binary:logistic',\n",
    "    nthread=4,\n",
    "    seed=42\n",
    ")\n",
    "parameters = {\n",
    "    'scale_pos_weight': [6],\n",
    "    'eta':[ 0.01,0.05, 0.1,0.15 ],\n",
    "    'min_child_weight':[6],\n",
    "    'max_depth':[4],\n",
    "    'gamma':[2,4,6,8],\n",
    "    'n_estimators': [10,20,40,50]\n",
    "    \n",
    "    \n",
    "\n",
    "}\n",
    "grid_search = GridSearchCV(\n",
    "    estimator=estimator,\n",
    "    param_grid=parameters,\n",
    "    scoring = 'roc_auc',\n",
    "    n_jobs = 10,\n",
    "    cv = 2,\n",
    "    verbose=True\n",
    ")\n",
    "\n",
    "grid_search.fit(X_train, y_train)\n",
    "\n",
    "\n",
    "model=XGBClassifier(**grid_search.best_params_)\n",
    "M=model.fit(X_train, y_train,verbose=True,eval_metric=\"auc\")\n",
    "y_pred_train=M.predict(X_train)\n",
    "y_pred_test=M.predict(X_test)\n",
    "\n",
    "auc_train=metrics.roc_auc_score(y_train, y_pred_train)\n",
    "auc_test=metrics.roc_auc_score(y_test, y_pred_test)\n",
    "\n",
    "\n",
    "\n",
    "print('AUC Training ',auc_train)\n",
    "print('AUC Testing',auc_test)"
   ]
  },
  {
   "cell_type": "code",
   "execution_count": 19,
   "id": "f67bc871",
   "metadata": {},
   "outputs": [
    {
     "data": {
      "text/plain": [
       "XGBClassifier(base_score=0.5, booster='gbtree', colsample_bylevel=1,\n",
       "              colsample_bynode=1, colsample_bytree=1, enable_categorical=False,\n",
       "              eta=0.1, gamma=2, gpu_id=-1, importance_type=None,\n",
       "              interaction_constraints='', learning_rate=0.100000001,\n",
       "              max_delta_step=0, max_depth=4, min_child_weight=6, missing=nan,\n",
       "              monotone_constraints='()', n_estimators=50, n_jobs=4, nthread=4,\n",
       "              num_parallel_tree=1, predictor='auto', random_state=42,\n",
       "              reg_alpha=0, reg_lambda=1, scale_pos_weight=6, seed=42,\n",
       "              subsample=1, tree_method='exact', validate_parameters=1, ...)"
      ]
     },
     "execution_count": 19,
     "metadata": {},
     "output_type": "execute_result"
    }
   ],
   "source": [
    "grid_search.best_estimator_\n"
   ]
  },
  {
   "cell_type": "code",
   "execution_count": 17,
   "id": "0c6cfd8a",
   "metadata": {
    "scrolled": true
   },
   "outputs": [
    {
     "data": {
      "text/plain": [
       "XGBClassifier(base_score=0.5, booster='gbtree', colsample_bylevel=1,\n",
       "              colsample_bynode=1, colsample_bytree=1, enable_categorical=False,\n",
       "              eta=0.1, gamma=2, gpu_id=-1, importance_type=None,\n",
       "              interaction_constraints='', learning_rate=0.100000001,\n",
       "              max_delta_step=0, max_depth=4, min_child_weight=6, missing=nan,\n",
       "              monotone_constraints='()', n_estimators=40, n_jobs=4, nthread=4,\n",
       "              num_parallel_tree=1, predictor='auto', random_state=42,\n",
       "              reg_alpha=0, reg_lambda=1, scale_pos_weight=6, seed=42,\n",
       "              subsample=1, tree_method='exact', validate_parameters=1, ...)"
      ]
     },
     "execution_count": 17,
     "metadata": {},
     "output_type": "execute_result"
    }
   ],
   "source": [
    "grid_search.best_estimator_\n"
   ]
  },
  {
   "cell_type": "code",
   "execution_count": 74,
   "id": "c5cdbad0",
   "metadata": {
    "scrolled": true
   },
   "outputs": [
    {
     "data": {
      "text/html": [
       "<div>\n",
       "<style scoped>\n",
       "    .dataframe tbody tr th:only-of-type {\n",
       "        vertical-align: middle;\n",
       "    }\n",
       "\n",
       "    .dataframe tbody tr th {\n",
       "        vertical-align: top;\n",
       "    }\n",
       "\n",
       "    .dataframe thead th {\n",
       "        text-align: right;\n",
       "    }\n",
       "</style>\n",
       "<table border=\"1\" class=\"dataframe\">\n",
       "  <thead>\n",
       "    <tr style=\"text-align: right;\">\n",
       "      <th></th>\n",
       "      <th>Administrative</th>\n",
       "      <th>Administrative_Duration</th>\n",
       "      <th>Informational</th>\n",
       "      <th>Informational_Duration</th>\n",
       "      <th>ProductRelated</th>\n",
       "      <th>ProductRelated_Duration</th>\n",
       "      <th>BounceRates</th>\n",
       "      <th>ExitRates</th>\n",
       "      <th>PageValues</th>\n",
       "      <th>SpecialDay</th>\n",
       "      <th>...</th>\n",
       "      <th>Month_Aug</th>\n",
       "      <th>Month_Dec</th>\n",
       "      <th>Month_Feb</th>\n",
       "      <th>Month_Jul</th>\n",
       "      <th>Month_June</th>\n",
       "      <th>Month_Mar</th>\n",
       "      <th>Month_May</th>\n",
       "      <th>Month_Nov</th>\n",
       "      <th>Month_Oct</th>\n",
       "      <th>Month_Sep</th>\n",
       "    </tr>\n",
       "  </thead>\n",
       "  <tbody>\n",
       "    <tr>\n",
       "      <th>0</th>\n",
       "      <td>0</td>\n",
       "      <td>0.0</td>\n",
       "      <td>0</td>\n",
       "      <td>0.0</td>\n",
       "      <td>1</td>\n",
       "      <td>0.000000</td>\n",
       "      <td>0.20</td>\n",
       "      <td>0.20</td>\n",
       "      <td>1</td>\n",
       "      <td>0.0</td>\n",
       "      <td>...</td>\n",
       "      <td>0</td>\n",
       "      <td>0</td>\n",
       "      <td>1</td>\n",
       "      <td>0</td>\n",
       "      <td>0</td>\n",
       "      <td>0</td>\n",
       "      <td>0</td>\n",
       "      <td>0</td>\n",
       "      <td>0</td>\n",
       "      <td>0</td>\n",
       "    </tr>\n",
       "    <tr>\n",
       "      <th>1</th>\n",
       "      <td>0</td>\n",
       "      <td>0.0</td>\n",
       "      <td>0</td>\n",
       "      <td>0.0</td>\n",
       "      <td>2</td>\n",
       "      <td>64.000000</td>\n",
       "      <td>0.00</td>\n",
       "      <td>0.10</td>\n",
       "      <td>1</td>\n",
       "      <td>0.0</td>\n",
       "      <td>...</td>\n",
       "      <td>0</td>\n",
       "      <td>0</td>\n",
       "      <td>1</td>\n",
       "      <td>0</td>\n",
       "      <td>0</td>\n",
       "      <td>0</td>\n",
       "      <td>0</td>\n",
       "      <td>0</td>\n",
       "      <td>0</td>\n",
       "      <td>0</td>\n",
       "    </tr>\n",
       "    <tr>\n",
       "      <th>2</th>\n",
       "      <td>0</td>\n",
       "      <td>0.0</td>\n",
       "      <td>0</td>\n",
       "      <td>0.0</td>\n",
       "      <td>1</td>\n",
       "      <td>0.000000</td>\n",
       "      <td>0.20</td>\n",
       "      <td>0.20</td>\n",
       "      <td>1</td>\n",
       "      <td>0.0</td>\n",
       "      <td>...</td>\n",
       "      <td>0</td>\n",
       "      <td>0</td>\n",
       "      <td>1</td>\n",
       "      <td>0</td>\n",
       "      <td>0</td>\n",
       "      <td>0</td>\n",
       "      <td>0</td>\n",
       "      <td>0</td>\n",
       "      <td>0</td>\n",
       "      <td>0</td>\n",
       "    </tr>\n",
       "    <tr>\n",
       "      <th>3</th>\n",
       "      <td>0</td>\n",
       "      <td>0.0</td>\n",
       "      <td>0</td>\n",
       "      <td>0.0</td>\n",
       "      <td>2</td>\n",
       "      <td>2.666667</td>\n",
       "      <td>0.05</td>\n",
       "      <td>0.14</td>\n",
       "      <td>1</td>\n",
       "      <td>0.0</td>\n",
       "      <td>...</td>\n",
       "      <td>0</td>\n",
       "      <td>0</td>\n",
       "      <td>1</td>\n",
       "      <td>0</td>\n",
       "      <td>0</td>\n",
       "      <td>0</td>\n",
       "      <td>0</td>\n",
       "      <td>0</td>\n",
       "      <td>0</td>\n",
       "      <td>0</td>\n",
       "    </tr>\n",
       "    <tr>\n",
       "      <th>4</th>\n",
       "      <td>0</td>\n",
       "      <td>0.0</td>\n",
       "      <td>0</td>\n",
       "      <td>0.0</td>\n",
       "      <td>10</td>\n",
       "      <td>627.500000</td>\n",
       "      <td>0.02</td>\n",
       "      <td>0.05</td>\n",
       "      <td>1</td>\n",
       "      <td>0.0</td>\n",
       "      <td>...</td>\n",
       "      <td>0</td>\n",
       "      <td>0</td>\n",
       "      <td>1</td>\n",
       "      <td>0</td>\n",
       "      <td>0</td>\n",
       "      <td>0</td>\n",
       "      <td>0</td>\n",
       "      <td>0</td>\n",
       "      <td>0</td>\n",
       "      <td>0</td>\n",
       "    </tr>\n",
       "  </tbody>\n",
       "</table>\n",
       "<p>5 rows × 29 columns</p>\n",
       "</div>"
      ],
      "text/plain": [
       "   Administrative  Administrative_Duration  Informational  \\\n",
       "0               0                      0.0              0   \n",
       "1               0                      0.0              0   \n",
       "2               0                      0.0              0   \n",
       "3               0                      0.0              0   \n",
       "4               0                      0.0              0   \n",
       "\n",
       "   Informational_Duration  ProductRelated  ProductRelated_Duration  \\\n",
       "0                     0.0               1                 0.000000   \n",
       "1                     0.0               2                64.000000   \n",
       "2                     0.0               1                 0.000000   \n",
       "3                     0.0               2                 2.666667   \n",
       "4                     0.0              10               627.500000   \n",
       "\n",
       "   BounceRates  ExitRates PageValues  SpecialDay  ...  Month_Aug  Month_Dec  \\\n",
       "0         0.20       0.20          1         0.0  ...          0          0   \n",
       "1         0.00       0.10          1         0.0  ...          0          0   \n",
       "2         0.20       0.20          1         0.0  ...          0          0   \n",
       "3         0.05       0.14          1         0.0  ...          0          0   \n",
       "4         0.02       0.05          1         0.0  ...          0          0   \n",
       "\n",
       "   Month_Feb  Month_Jul  Month_June  Month_Mar  Month_May  Month_Nov  \\\n",
       "0          1          0           0          0          0          0   \n",
       "1          1          0           0          0          0          0   \n",
       "2          1          0           0          0          0          0   \n",
       "3          1          0           0          0          0          0   \n",
       "4          1          0           0          0          0          0   \n",
       "\n",
       "   Month_Oct  Month_Sep  \n",
       "0          0          0  \n",
       "1          0          0  \n",
       "2          0          0  \n",
       "3          0          0  \n",
       "4          0          0  \n",
       "\n",
       "[5 rows x 29 columns]"
      ]
     },
     "execution_count": 74,
     "metadata": {},
     "output_type": "execute_result"
    }
   ],
   "source": [
    "df.head()"
   ]
  },
  {
   "cell_type": "code",
   "execution_count": 119,
   "id": "ccc2ab85",
   "metadata": {},
   "outputs": [
    {
     "name": "stdout",
     "output_type": "stream",
     "text": [
      "AUC Training  0.8669775310151797\n",
      "AUC Testing 0.8549878345498783\n"
     ]
    }
   ],
   "source": [
    "model=XGBClassifier(booster='gbtree',objective='binary:logistic',eta=0.1,gamma=2,max_depth=4,min_child_weight=6,scale_pos_weight=6,n_jobs=4,n_estimators=40,random_state=7)\n",
    "M=model.fit(X_train, y_train,verbose=True,eval_metric=\"auc\")\n",
    "\n",
    "y_pred_train=M.predict(X_train)\n",
    "y_pred_test=M.predict(X_test)\n",
    "\n",
    "auc_train=metrics.roc_auc_score(y_train, y_pred_train)\n",
    "auc_test=metrics.roc_auc_score(y_test, y_pred_test)\n",
    "\n",
    "\n",
    "\n",
    "print('AUC Training ',auc_train)\n",
    "print('AUC Testing',auc_test)"
   ]
  },
  {
   "cell_type": "code",
   "execution_count": 528,
   "id": "a0a23efa",
   "metadata": {},
   "outputs": [],
   "source": [
    "fpr_train,tpr_train,threshols_train=metrics.roc_curve(y_train,y_pred_train)\n",
    "fpr_test,tpr_test,threshols_test=metrics.roc_curve(y_test,y_pred_test)"
   ]
  },
  {
   "cell_type": "code",
   "execution_count": 503,
   "id": "aec792ae",
   "metadata": {
    "scrolled": false
   },
   "outputs": [
    {
     "data": {
      "image/png": "[encoded data removed]",
      "text/plain": [
       "<Figure size 720x720 with 1 Axes>"
      ]
     },
     "metadata": {
      "needs_background": "light"
     },
     "output_type": "display_data"
    }
   ],
   "source": [
    "from xgboost import plot_importance\n",
    "fig,ax=plt.subplots(figsize=(10,10))\n",
    "plot_importance(model,height=0.5,ax=ax,importance_type='weight')\n",
    "pyplot.show()"
   ]
  },
  {
   "cell_type": "code",
   "execution_count": 262,
   "id": "fee8cd00",
   "metadata": {},
   "outputs": [],
   "source": [
    "M.get_booster().dump_model('AllBoosters')"
   ]
  },
  {
   "cell_type": "code",
   "execution_count": 30,
   "id": "bd2d7d7a",
   "metadata": {
    "scrolled": false
   },
   "outputs": [
    {
     "data": {
      "text/plain": [
       "<AxesSubplot:>"
      ]
     },
     "execution_count": 30,
     "metadata": {},
     "output_type": "execute_result"
    },
    {
     "data": {
      "image/png": "[encoded data removed]",
      "text/plain": [
       "<Figure size 1440x576 with 1 Axes>"
      ]
     },
     "metadata": {
      "needs_background": "light"
     },
     "output_type": "display_data"
    }
   ],
   "source": [
    "import matplotlib.pyplot as plt\n",
    "fig, axes = plt.subplots(figsize=(20, 8))\n",
    "df[df['Revenue']<=0]['PageValues'].hist(bins=50)\n",
    "\n",
    "df[df['Revenue']>0]['PageValues'].hist(bins=50)\n"
   ]
  },
  {
   "cell_type": "code",
   "execution_count": 28,
   "id": "371255ce",
   "metadata": {
    "scrolled": true
   },
   "outputs": [
    {
     "data": {
      "text/plain": [
       "<AxesSubplot:>"
      ]
     },
     "execution_count": 28,
     "metadata": {},
     "output_type": "execute_result"
    },
    {
     "data": {
      "image/png": "[encoded data removed]",
      "text/plain": [
       "<Figure size 1440x576 with 1 Axes>"
      ]
     },
     "metadata": {
      "needs_background": "light"
     },
     "output_type": "display_data"
    }
   ],
   "source": [
    "import matplotlib.pyplot as plt\n",
    "fig, axes = plt.subplots(figsize=(20, 8))\n",
    "df['PageValues'].hist(bins=50)\n"
   ]
  }
 ],
 "metadata": {
  "kernelspec": {
   "display_name": "Python 3 (ipykernel)",
   "language": "python",
   "name": "python3"
  },
  "language_info": {
   "codemirror_mode": {
    "name": "ipython",
    "version": 3
   },
   "file_extension": ".py",
   "mimetype": "text/x-python",
   "name": "python",
   "nbconvert_exporter": "python",
   "pygments_lexer": "ipython3",
   "version": "3.9.7"
  }
 },
 "nbformat": 4,
 "nbformat_minor": 5
}
